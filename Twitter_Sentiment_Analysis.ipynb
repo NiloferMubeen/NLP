{
 "cells": [
  {
   "cell_type": "markdown",
   "metadata": {},
   "source": [
    "## TWITTER SENTIMENT ANALYSIS"
   ]
  },
  {
   "cell_type": "markdown",
   "metadata": {},
   "source": [
    "Access Token = \"1831232807810551808-7VVti7dDqBMQEDI38116QA0OEdlvMC\"\n",
    "Access Token Secret = \"kZiJTLYuAkIVnjjzuevb9xzY017byDIXheGveiuAsrRix\""
   ]
  },
  {
   "cell_type": "markdown",
   "metadata": {},
   "source": [
    "API Key = \"Ij83ErA30RquRj1FDpeNnx4Us\"\n",
    "API Key Secret = \"YJ4UM69U2gOJkWuJdMb67Zd8jwuwplYpe7bJYQPVrrzgEqPSIv\""
   ]
  },
  {
   "cell_type": "code",
   "execution_count": null,
   "metadata": {},
   "outputs": [],
   "source": []
  }
 ],
 "metadata": {
  "kernelspec": {
   "display_name": "Python 3",
   "language": "python",
   "name": "python3"
  },
  "language_info": {
   "codemirror_mode": {
    "name": "ipython",
    "version": 3
   },
   "file_extension": ".py",
   "mimetype": "text/x-python",
   "name": "python",
   "nbconvert_exporter": "python",
   "pygments_lexer": "ipython3",
   "version": "3.10.0"
  }
 },
 "nbformat": 4,
 "nbformat_minor": 2
}
